{
 "cells": [
  {
   "cell_type": "code",
   "execution_count": 1,
   "metadata": {},
   "outputs": [],
   "source": [
    "import torch\n",
    "\n",
    "net = torch.load(\"./model 1.pt\")"
   ]
  },
  {
   "cell_type": "code",
   "execution_count": 4,
   "metadata": {},
   "outputs": [
    {
     "name": "stdout",
     "output_type": "stream",
     "text": [
      "torch.Size([101, 4386])\n"
     ]
    }
   ],
   "source": [
    "x = torch.randn((101, 4386)).to('cuda').double()\n",
    "y = net(x)\n",
    "print(y.shape)"
   ]
  },
  {
   "cell_type": "code",
   "execution_count": 5,
   "metadata": {},
   "outputs": [
    {
     "name": "stderr",
     "output_type": "stream",
     "text": [
      "c:\\Users\\Darin\\Documents\\Repository\\physical-simulation-ml-3900\\anim.py:419: RuntimeWarning: divide by zero encountered in log10\n",
      "  err_log_10 = np.log10(error)\n",
      "c:\\Users\\Darin\\Documents\\Repository\\physical-simulation-ml-3900\\anim.py:419: RuntimeWarning: divide by zero encountered in log10\n",
      "  err_log_10 = np.log10(error)\n"
     ]
    }
   ],
   "source": [
    "from anim import make_anim\n",
    "from load import *\n",
    "from models_base import Dataset\n",
    "\n",
    "training_model_no = 1\n",
    "\n",
    "device = 'cuda'\n",
    "Q = 1.60217663e-19\n",
    "ep = Dataset(load_elec_potential())\n",
    "sc = Dataset(load_space_charge() * (-Q))\n",
    "epsc = (ep + sc).clone().to_tensor().reshape(-1, 4386)\n",
    "with torch.no_grad():\n",
    "    y = net(x)\n",
    "    y_ep = y[:, :2193].reshape(-1, 129, 17).cpu().numpy()\n",
    "    y_sc = y[:, 2193:].reshape(-1, 129, 17).cpu().numpy()\n",
    "    ep = load_elec_potential().cpu().numpy()\n",
    "    sc = load_space_charge().cpu().numpy() * -Q\n",
    "    make_anim(y_ep, ep, f\"./potential training {training_model_no}.gif\", \"Potential\")\n",
    "    make_anim(y_sc, sc, f\"./spacecharge training {training_model_no}.gif\", \"Space charge\")"
   ]
  }
 ],
 "metadata": {
  "kernelspec": {
   "display_name": "Python 3",
   "language": "python",
   "name": "python3"
  },
  "language_info": {
   "codemirror_mode": {
    "name": "ipython",
    "version": 3
   },
   "file_extension": ".py",
   "mimetype": "text/x-python",
   "name": "python",
   "nbconvert_exporter": "python",
   "pygments_lexer": "ipython3",
   "version": "3.11.3"
  },
  "orig_nbformat": 4
 },
 "nbformat": 4,
 "nbformat_minor": 2
}
