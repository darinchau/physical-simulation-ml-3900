{
 "cells": [
  {
   "cell_type": "code",
   "execution_count": 1,
   "metadata": {},
   "outputs": [],
   "source": [
    "from load import *\n",
    "from torch import Tensor, nn\n",
    "import torch\n",
    "from modules import *\n",
    "\n",
    "## Second part of the graph\n",
    "net = torch.load(\"./Datas/Week 7/VAE model 1/model.pt\")"
   ]
  },
  {
   "cell_type": "code",
   "execution_count": null,
   "metadata": {},
   "outputs": [],
   "source": [
    "Q = 1.60217663e-19\n",
    "def load():\n",
    "    ep = load_elec_potential().reshape(-1, 2193)\n",
    "    sc = (load_space_charge() * (-Q)).reshape(-1, 2193)\n",
    "    epsc = torch.cat([ep, sc], axis = -1)\n",
    "    return epsc\n",
    "\n",
    "print(load().shape)"
   ]
  },
  {
   "cell_type": "code",
   "execution_count": 20,
   "metadata": {},
   "outputs": [
    {
     "name": "stdout",
     "output_type": "stream",
     "text": [
      "torch.Size([101, 4386])\n"
     ]
    }
   ],
   "source": [
    "device = get_device()\n",
    "net = net.to(device).double()\n",
    "x = load().to(device)\n",
    "y = net(x)\n",
    "print(y.shape)"
   ]
  },
  {
   "cell_type": "code",
   "execution_count": 21,
   "metadata": {},
   "outputs": [],
   "source": [
    "class Progress:\n",
    "    def __init__(self, pad = 200):\n",
    "        self.pad = pad\n",
    "    \n",
    "    def rint(self, content: str):\n",
    "        print(content.ljust(self.pad), end = '\\r')\n",
    "        self.pad = max(self.pad, len(content) + 1)"
   ]
  },
  {
   "cell_type": "code",
   "execution_count": null,
   "metadata": {},
   "outputs": [],
   "source": [
    "def train(net, epochs):\n",
    "    device = get_device()\n",
    "    net = VAENet1(net).to(device).double()\n",
    "    opt = torch.optim.Adam(net.parameters(), lr = 0.005)\n",
    "    vg = load_vgs().to(device).double()\n",
    "    y = load_elec_potential().to(device).double()\n",
    "    history = []\n",
    "    p = Progress()\n",
    "    \n",
    "    for i in range(epochs):\n",
    "        def closure():\n",
    "            if torch.is_grad_enabled():\n",
    "                opt.zero_grad()\n",
    "            x = vg\n",
    "            ypred = net(x)\n",
    "            loss = torch.sqrt(torch.mean((y - ypred) ** 2))\n",
    "            if loss.requires_grad:\n",
    "                loss.backward()\n",
    "\n",
    "            nonlocal history\n",
    "            history.append(loss.item())\n",
    "\n",
    "            nonlocal p\n",
    "            p.rint(f\"Epoch {i}: RMSE = {loss.item()}\")\n",
    "            return loss\n",
    "        opt.step(closure)\n",
    "\n",
    "    return net, history\n",
    "\n",
    "net, history = train(net, 10000)"
   ]
  },
  {
   "cell_type": "code",
   "execution_count": 23,
   "metadata": {},
   "outputs": [
    {
     "data": {
      "image/png": "[encoded data removed]",
      "text/plain": [
       "<Figure size 640x480 with 1 Axes>"
      ]
     },
     "metadata": {},
     "output_type": "display_data"
    }
   ],
   "source": [
    "from anim import make_anim\n",
    "from load import *\n",
    "import matplotlib.pyplot as plt\n",
    "from torchsummary import summary\n",
    "import subprocess\n",
    "\n",
    "ROOT = \"./Datas/Week 7\"\n",
    "\n",
    "def save_stuff(net, history, training_model_no: int, commit: bool = True, name: str = \"\"):\n",
    "    # Animation\n",
    "    device = get_device()\n",
    "    with torch.no_grad():\n",
    "        x = load_vgs().to(device).double()\n",
    "        ypred = net(x).cpu().numpy()\n",
    "    root = f\"{ROOT}/VAE model {training_model_no}\"\n",
    "    ep = load_elec_potential().cpu().numpy()\n",
    "    make_anim(ypred, ep, f\"{root}/{name} potential.gif\", \"Potential\")\n",
    "\n",
    "    # Graph \n",
    "    plt.figure()\n",
    "    plt.plot(history)\n",
    "    plt.yscale('log')\n",
    "    plt.legend([\"MSE loss\"])\n",
    "    plt.savefig(f\"{root}/{name} model history.png\")\n",
    "\n",
    "    # Model\n",
    "    torch.save(net, f\"{root}/{name} model.pt\")\n",
    "\n",
    "    # Structure\n",
    "    commit_token = f\"VAE {name} model {training_model_no}\"\n",
    "    with open(f\"{root}/{name} logs.txt\", 'w', encoding='utf-8') as f:\n",
    "        f.write(\"Model structure:\\n\\n\")\n",
    "        f.write(f\"{summary(net, verbose=0)}\")\n",
    "        if commit:\n",
    "            f.write(\"\\n\\n\")\n",
    "            f.write(f\"Save at the commit \\\"{commit_token}\\\"\")\n",
    "    \n",
    "    # Make a git commit to save the code\n",
    "    if commit:\n",
    "        subprocess.call([\"git\", \"add\", \".\"])\n",
    "        subprocess.call([\"git\", \"commit\", \"-m\", commit_token])\n",
    "        subprocess.call([\"git\", \"push\", \"origin\", \"master\"])\n",
    "\n",
    "save_stuff(net, history, 1, commit=False, name = \"ap1\")"
   ]
  },
  {
   "cell_type": "code",
   "execution_count": 6,
   "metadata": {},
   "outputs": [
    {
     "data": {
      "image/png": "[encoded data removed]",
      "text/plain": [
       "<Figure size 640x480 with 1 Axes>"
      ]
     },
     "metadata": {},
     "output_type": "display_data"
    }
   ],
   "source": [
    "import matplotlib.pyplot as plt\n",
    "import numpy as np\n",
    "materials = np.load(\"./mesh_data_materials.npy\")\n",
    "\n",
    "# Eps = 7.8 at interface\n",
    "plt.figure()\n",
    "plt.imshow(materials.T[::-1, :])\n",
    "plt.yticks([])\n",
    "plt.show()"
   ]
  },
  {
   "cell_type": "code",
   "execution_count": 7,
   "metadata": {},
   "outputs": [
    {
     "data": {
      "image/png": "[encoded data removed]",
      "text/plain": [
       "<Figure size 640x480 with 1 Axes>"
      ]
     },
     "metadata": {},
     "output_type": "display_data"
    }
   ],
   "source": [
    "materials = np.load(\"./mesh_data_contacts.npy\")\n",
    "\n",
    "plt.figure()\n",
    "plt.imshow(materials.T[::-1, :])\n",
    "plt.yticks([])\n",
    "plt.show()"
   ]
  }
 ],
 "metadata": {
  "kernelspec": {
   "display_name": "Python 3",
   "language": "python",
   "name": "python3"
  },
  "language_info": {
   "codemirror_mode": {
    "name": "ipython",
    "version": 3
   },
   "file_extension": ".py",
   "mimetype": "text/x-python",
   "name": "python",
   "nbconvert_exporter": "python",
   "pygments_lexer": "ipython3",
   "version": "3.11.3"
  },
  "orig_nbformat": 4
 },
 "nbformat": 4,
 "nbformat_minor": 2
}
