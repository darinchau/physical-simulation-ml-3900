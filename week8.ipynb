{
 "cells": [
  {
   "cell_type": "code",
   "execution_count": 1,
   "metadata": {},
   "outputs": [],
   "source": [
    "from load import *\n",
    "from torch import Tensor, nn\n",
    "import torch\n",
    "from anim import *\n",
    "from model_base import Model\n",
    "from modules import *\n",
    "\n",
    "ROOT = \"./Datas/Week 8\"\n",
    "\n",
    "Q = 1.60217663e-19"
   ]
  },
  {
   "cell_type": "code",
   "execution_count": 2,
   "metadata": {},
   "outputs": [],
   "source": [
    "sc = load_space_charge() * -Q\n",
    "ep = load_elec_potential()\n",
    "vg = load_vgs()\n",
    "ma = load_materials()\n",
    "co = load_contacts()\n",
    "sx, sy = load_spacing()"
   ]
  },
  {
   "cell_type": "code",
   "execution_count": 29,
   "metadata": {},
   "outputs": [],
   "source": [
    "class PoissonFixModelInner(Model):\n",
    "    def __init__(self):\n",
    "        self.tl1 = TrainedLinear(1, 2193, 'linear')\n",
    "        self.tl2 = TrainedLinear(1, 2193, 'linear')\n",
    "        self.li1 = Linear(10966, 5000)\n",
    "        self.si1 = LeakySigmoid()\n",
    "        self.li2 = Linear(5000, 4386)\n",
    "        self.si2 = LeakySigmoid()\n",
    "    \n",
    "    def fit(self, vg, ep, sc):\n",
    "        self.tl1.fit(vg, ep)\n",
    "        self.tl2.fit(vg, sc)\n",
    "\n",
    "    def forward(self, x: Tensor) -> Tensor:\n",
    "        # This inner model should accept 1 + 2193 * 5 variables and output 4386 things\n",
    "        "
   ]
  },
  {
   "cell_type": "code",
   "execution_count": 30,
   "metadata": {},
   "outputs": [],
   "source": [
    "# rs = poisson_lhs(ep, sx, sy)\n",
    "# anim = AnimationMaker()\n",
    "# anim.add_data(rs, \"Laplacian\")\n",
    "# anim.add_data(rs, \"Laplacian rescaled\", vmin = torch.min(sc).item(), vmax = torch.max(sc).item())\n",
    "# anim.add_data(sc, \"Space charge\")\n",
    "# anim.add_data(log_diff(rs, sc), \"Log difference\")\n",
    "# anim.save(\"lapla.gif\")"
   ]
  }
 ],
 "metadata": {
  "kernelspec": {
   "display_name": "Python 3",
   "language": "python",
   "name": "python3"
  },
  "language_info": {
   "codemirror_mode": {
    "name": "ipython",
    "version": 3
   },
   "file_extension": ".py",
   "mimetype": "text/x-python",
   "name": "python",
   "nbconvert_exporter": "python",
   "pygments_lexer": "ipython3",
   "version": "3.11.3"
  },
  "orig_nbformat": 4
 },
 "nbformat": 4,
 "nbformat_minor": 2
}
