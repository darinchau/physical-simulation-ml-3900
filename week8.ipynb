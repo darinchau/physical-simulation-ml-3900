{
 "cells": [
  {
   "cell_type": "code",
   "execution_count": 1,
   "metadata": {},
   "outputs": [],
   "source": [
    "from load import *\n",
    "from torch import Tensor, nn\n",
    "import torch\n",
    "from model_base import *\n",
    "from modules import *\n",
    "from anim import *\n",
    "import util\n",
    "import matplotlib.pyplot as plt\n",
    "from scipy.optimize import minimize\n",
    "\n",
    "ROOT = \"./Datas/Week 8\"\n",
    "\n",
    "Q = 1.60217663e-19"
   ]
  },
  {
   "cell_type": "code",
   "execution_count": 2,
   "metadata": {},
   "outputs": [
    {
     "data": {
      "text/plain": [
       "tensor(5.3032e-10, dtype=torch.float64)"
      ]
     },
     "execution_count": 2,
     "metadata": {},
     "output_type": "execute_result"
    }
   ],
   "source": [
    "sc = load_space_charge() * -Q\n",
    "ep = load_elec_potential()\n",
    "vg = load_vgs()\n",
    "poi = NormalizedPoissonMSE('cpu')\n",
    "poi(ep, sc)"
   ]
  },
  {
   "cell_type": "code",
   "execution_count": 3,
   "metadata": {},
   "outputs": [],
   "source": [
    "# This model does not need to be trained\n",
    "class PoissonJITRegressor(Model):\n",
    "    \"\"\"Use a first model to predict stuff, then use a second model to make them self consistent - aka satisfy the Poisson equation\"\"\"\n",
    "    def __init__(self, ep1: TrainedLinear, sc1: TrainedLinear):\n",
    "        # From the linearity plots, we only need to care about region 2 in practice for space charge\n",
    "        # and region 2, 5 for electric potential\n",
    "        self.ep1 = ep1\n",
    "        self.sc1 = sc1\n",
    "        \n",
    "    def forward(self, x):\n",
    "        num_data = int(x.shape[0])\n",
    "        # xep = x[:, :2193].reshape(-1, 129, 17)\n",
    "        # xsc = x[:, 2193:].reshape(-1, 129, 17)\n",
    "\n",
    "        naive_prediction = torch.cat([self.ep1(x), self.sc1(x)], dim = 1)\n",
    "\n",
    "        result = torch.zeros(num_data, 4386)\n",
    "        with torch.no_grad():\n",
    "            xep = self.ep1(x).cpu().numpy().reshape(-1, 129, 17)\n",
    "            xsc = self.sc1(x).cpu().numpy().reshape(-1, 129, 17)\n",
    "\n",
    "            poisson_loss = NormalizedPoissonRMSE('cpu')\n",
    "\n",
    "            # Nudge region 2, 5 of ep, region 2 of sc\n",
    "            # Refer to anim.py for region codes\n",
    "            # The mystery numbers are the number of parameters in different region\n",
    "            for i in range(num_data):\n",
    "                def reconstruct(x):\n",
    "                    ep_region_2 = x[:429].reshape(84 - 45, -1)\n",
    "                    ep_region_5 = x[429:663].reshape(84 - 45, -1)\n",
    "                    sc_region_2 = x[663:].reshape(84 - 45, -1)\n",
    "\n",
    "                    reconstructed_ep = xep[i]\n",
    "                    reconstructed_ep[45:84,:11] = ep_region_2\n",
    "                    reconstructed_ep[45:84,11:] = ep_region_5\n",
    "                    reconstructed_ep = torch.tensor(reconstructed_ep.reshape(1, 129, 17))\n",
    "\n",
    "                    reconstructed_sc = xsc[i]\n",
    "                    reconstructed_sc[45:84,:11] = sc_region_2\n",
    "                    reconstructed_sc = torch.tensor(reconstructed_sc.reshape(1, 129, 17))\n",
    "\n",
    "                    return reconstructed_ep, reconstructed_sc\n",
    "                \n",
    "                def minimize_me(x):\n",
    "                    reconstructed_ep, reconstructed_sc = reconstruct(x)\n",
    "                    mse = poisson_loss(reconstructed_ep, reconstructed_sc)\n",
    "                    return float(mse.item())\n",
    "                \n",
    "                ep_region_2 = xep[i,45:84,:11].reshape(-1)\n",
    "                ep_region_5 = xep[i,45:84,11:].reshape(-1)\n",
    "                sc_region_2 = xsc[i,45:84,:11].reshape(-1)\n",
    "\n",
    "                joined = np.concatenate([ep_region_2, ep_region_5, sc_region_2])\n",
    "                bounds = [(0, 1)] * 663 + [(-20, 20)] * 429\n",
    "                gradient_descent = minimize(minimize_me, x0 = joined, bounds = bounds)\n",
    "                grad_result = gradient_descent.x\n",
    "                new_ep, new_sc = reconstruct(grad_result)\n",
    "                result[i][:2193] = new_ep.reshape(-1)\n",
    "                result[i][2193:] = new_sc.reshape(-1)\n",
    "\n",
    "                print(f\"Frame {i}: Difference: {torch.mean(torch.abs(naive_prediction[i] - result[i]))}\", end = \"\")\n",
    "\n",
    "                poi = poisson_loss(new_ep, new_sc)\n",
    "                print(f\" Poisson loss: {poi}\")\n",
    "\n",
    "        return result"
   ]
  },
  {
   "cell_type": "code",
   "execution_count": null,
   "metadata": {},
   "outputs": [],
   "source": [
    "x = vg[:30]\n",
    "epy = ep[:30]\n",
    "scy = sc[:30]\n",
    "ep_linear = TrainedLinear(1, 2193, algorithm='linear').fit(x, epy.reshape(-1, 2193))\n",
    "sc_linear = TrainedLinear(1, 2193, algorithm='linear').fit(x, scy.reshape(-1, 2193))\n",
    "model = PoissonJITRegressor(ep_linear, sc_linear)\n",
    "ypred = model(vg)"
   ]
  },
  {
   "cell_type": "code",
   "execution_count": 5,
   "metadata": {},
   "outputs": [
    {
     "name": "stderr",
     "output_type": "stream",
     "text": [
      "c:\\Users\\Darin\\Documents\\Repository\\physical-simulation-ml-3900\\anim.py:423: RuntimeWarning: divide by zero encountered in log10\n",
      "  err_log_10 = np.log10(error)\n",
      "c:\\Users\\Darin\\Documents\\Repository\\physical-simulation-ml-3900\\anim.py:423: RuntimeWarning: divide by zero encountered in log10\n",
      "  err_log_10 = np.log10(error)\n"
     ]
    }
   ],
   "source": [
    "from anim import make_anim\n",
    "\n",
    "ypred_ep = ypred[:, :2193].reshape(-1, 129, 17)\n",
    "ypred_sc = ypred[:, 2193:].reshape(-1, 129, 17)\n",
    "\n",
    "make_anim(ypred_ep, ep, \"ep_jit1.gif\", \"Electric potential first 30\")\n",
    "make_anim(ypred_sc, sc, \"sc_jit1.gif\", \"Space charge first 30\")"
   ]
  },
  {
   "attachments": {},
   "cell_type": "markdown",
   "metadata": {},
   "source": [
    "Let's investigate a bit on best-fit lines and algorithms to find best fit lines. This can potentially improve the first prediction of poisson plots"
   ]
  },
  {
   "cell_type": "code",
   "execution_count": 29,
   "metadata": {},
   "outputs": [],
   "source": [
    "import numpy as np\n",
    "import matplotlib.pyplot as plt\n",
    "\n",
    "def f(d, m, c):\n",
    "    ypred = m * d[0] + c\n",
    "    return np.sqrt(np.mean((d[1] - ypred) ** 2))\n",
    "\n",
    "def plot_xy(data, modifier):\n",
    "    # Range\n",
    "    vmin, vmax = -10, 10\n",
    "\n",
    "    fig, ax = plt.subplots()\n",
    "    ax.scatter(data[0], data[1])\n",
    "    y = data[0] * 2 + 3\n",
    "    ax.plot(data[0], y, color = 'orange', linewidth = 3)\n",
    "\n",
    "    # Generate x and y values\n",
    "    x = np.linspace(vmin, vmax, 200)\n",
    "    y = np.linspace(vmin, vmax, 200)\n",
    "\n",
    "    # Create empty array for Z values\n",
    "    Z = np.empty((len(x), len(y)))\n",
    "\n",
    "    # Calculate the corresponding Z values using the function f\n",
    "    min_score = 999999\n",
    "    for i in range(len(x)):\n",
    "        for j in range(len(y)):\n",
    "            score = f(data, x[i], y[j])\n",
    "            min_score = min(score, min_score)\n",
    "            Z[i, j] = modifier(score)\n",
    "\n",
    "    # Create the heatmap plot\n",
    "    plt.figure()\n",
    "    plt.imshow(Z, cmap='hot', extent=[vmin, vmax, vmin, vmax], origin='lower')\n",
    "    plt.colorbar()\n",
    "\n",
    "    # Set plot title and labels\n",
    "    plt.title(\"Heatmap Plot of f(x, y)\")\n",
    "    plt.xlabel(\"m\")\n",
    "    plt.ylabel(\"c\")\n",
    "\n",
    "    print(f\"Minimized value: {min_score}, min modified: {np.min(Z)}\")"
   ]
  },
  {
   "cell_type": "code",
   "execution_count": null,
   "metadata": {},
   "outputs": [],
   "source": [
    "from tqdm import trange\n",
    "import time\n",
    "epochs = trange(100)\n",
    "for i in epochs:\n",
    "    time.sleep(0.25)\n",
    "    epochs.set_description(f\"Epoch{i}, loss = {random.random()}\")"
   ]
  }
 ],
 "metadata": {
  "kernelspec": {
   "display_name": "Python 3",
   "language": "python",
   "name": "python3"
  },
  "language_info": {
   "codemirror_mode": {
    "name": "ipython",
    "version": 3
   },
   "file_extension": ".py",
   "mimetype": "text/x-python",
   "name": "python",
   "nbconvert_exporter": "python",
   "pygments_lexer": "ipython3",
   "version": "3.11.3"
  },
  "orig_nbformat": 4
 },
 "nbformat": 4,
 "nbformat_minor": 2
}
