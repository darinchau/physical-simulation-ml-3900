{
 "cells": [
  {
   "cell_type": "code",
   "execution_count": 1,
   "metadata": {},
   "outputs": [],
   "source": [
    "from load import *\n",
    "from torch import Tensor, nn\n",
    "import torch\n",
    "from model_base import *\n",
    "from modules import *\n",
    "from anim import *\n",
    "import util\n",
    "import matplotlib.pyplot as plt\n",
    "from scipy.optimize import minimize\n",
    "import warnings\n",
    "\n",
    "ROOT = \"./Datas/Week 8\"\n",
    "\n",
    "Q = 1.60217663e-19"
   ]
  },
  {
   "cell_type": "code",
   "execution_count": 2,
   "metadata": {},
   "outputs": [
    {
     "data": {
      "text/plain": [
       "tensor(5.3032e-10, dtype=torch.float64)"
      ]
     },
     "execution_count": 2,
     "metadata": {},
     "output_type": "execute_result"
    }
   ],
   "source": [
    "sc = load_space_charge() * -Q\n",
    "ep = load_elec_potential()\n",
    "vg = load_vgs()\n",
    "poi = NormalizedPoissonMSE('cpu')\n",
    "poi(ep, sc)"
   ]
  },
  {
   "cell_type": "code",
   "execution_count": 3,
   "metadata": {},
   "outputs": [],
   "source": [
    "def eigenify(X):\n",
    "    cov = torch.cov(X.T.float())\n",
    "    l, v = torch.linalg.eig(cov)\n",
    "\n",
    "    # Temporarily supress warnings\n",
    "    warnings.filterwarnings(\"ignore\", category=UserWarning) \n",
    "    sorted_eigen = l.float().argsort(descending=True)\n",
    "    P = v[:, sorted_eigen].double()\n",
    "    warnings.filterwarnings(\"default\", category=UserWarning) \n",
    "\n",
    "    # Perform projection\n",
    "    X_ = X - torch.mean(X.float(), dim = 0)\n",
    "    components = X_.double() @ P\n",
    "    return components\n",
    "\n",
    "def eigende(X, N: int):\n",
    "    cov = torch.cov(X.T.float())\n",
    "    l, v = torch.linalg.eig(cov)\n",
    "\n",
    "    # Temporarily supress warnings\n",
    "    warnings.filterwarnings(\"ignore\", category=UserWarning) \n",
    "    sorted_eigen = l.float().argsort(descending=True)\n",
    "    sorted_vec = v[:, sorted_eigen].double()\n",
    "    P = sorted_vec[:, :N]\n",
    "    warnings.filterwarnings(\"default\", category=UserWarning)\n",
    "\n",
    "    print(P.shape)\n",
    "\n",
    "    # P is the required matrix\n",
    "    # Perform projection. The original data is transposed so welcome to transpose hell\n",
    "    X_ = X - torch.mean(X.float(), dim = 0)\n",
    "    components = P.T @ X_.T.double()\n",
    "    return components.T"
   ]
  },
  {
   "cell_type": "code",
   "execution_count": null,
   "metadata": {},
   "outputs": [],
   "source": [
    "# Pass a function object to scipy because we can avoid closures and local functions\n",
    "class ReconstructedPoissonLoss:\n",
    "    def __init__(self, xep, xsc, /, device = None):\n",
    "        self.i = 0\n",
    "        self.xep = xep\n",
    "        self.xsc = xsc\n",
    "        self.poisson_loss = NormalizedPoissonRMSE(device)\n",
    "        self._device = self.poisson_loss._device\n",
    "\n",
    "    def set_i(self, i):\n",
    "        self.i = i\n",
    "        return self\n",
    "\n",
    "    def reconstruct(self, x):\n",
    "        i = self.i\n",
    "\n",
    "        ep_region_2 = x[:429].reshape(84 - 45, 11)\n",
    "        ep_region_5 = x[429:663].reshape(84 - 45, 6)\n",
    "        sc_region_2 = x[663:].reshape(84 - 45, 11)\n",
    "\n",
    "        reconstructed_ep = self.xep[i]\n",
    "        reconstructed_ep[45:84,:11] = ep_region_2\n",
    "        reconstructed_ep[45:84,11:] = ep_region_5\n",
    "        reconstructed_ep = reconstructed_ep.reshape(1, 129, 17)\n",
    "\n",
    "        reconstructed_sc = self.xsc[i]\n",
    "        reconstructed_sc[45:84,:11] = sc_region_2\n",
    "        reconstructed_sc = reconstructed_sc.reshape(1, 129, 17)\n",
    "\n",
    "        return reconstructed_ep, reconstructed_sc\n",
    "    \n",
    "    def __call__(self, x):\n",
    "        x = torch.tensor(x).to(self._device)\n",
    "        rep, rsc = self.reconstruct(x)\n",
    "        mse = self.poisson_loss(rep, rsc)\n",
    "        return float(mse.item())\n",
    "\n",
    "class DebugeModel(Model):\n",
    "    \"\"\"Use a first model to predict stuff, then use a second model to make them self consistent - aka satisfy the Poisson equation\"\"\"\n",
    "    def __init__(self, ep1: TrainedLinear, sc1: TrainedLinear):\n",
    "        # From the linearity plots, we only need to care about region 2 in practice for space charge\n",
    "        # and region 2, 5 for electric potential\n",
    "        self.ep1 = ep1\n",
    "        self.sc1 = sc1\n",
    "        \n",
    "    def forward(self, x) -> Tensor:\n",
    "        num_data = int(x.shape[0])\n",
    "        result = torch.zeros(num_data, 4386)\n",
    "\n",
    "        # Initial prediction\n",
    "        xep = self.ep1(x).reshape(-1, 129, 17).cpu()\n",
    "        xsc = self.sc1(x).reshape(-1, 129, 17).cpu()\n",
    "                \n",
    "        ep_region_2 = xep[:, 45:84,:11].reshape(-1, 429)\n",
    "        ep_region_5 = xep[:, 45:84,11:].reshape(-1, 234)\n",
    "        sc_region_2 = xsc[:, 45:84,:11].reshape(-1, 429)\n",
    "\n",
    "        joined = torch.cat([ep_region_2, ep_region_5, sc_region_2], dim = 1)\n",
    "\n",
    "        pca = PrincipalComponentExtractor(2)\n",
    "        pca.fit(joined)\n",
    "\n",
    "        print(pca.eigenvalues)\n",
    "        return result"
   ]
  },
  {
   "cell_type": "code",
   "execution_count": null,
   "metadata": {},
   "outputs": [],
   "source": [
    "index = util.TRAINING_IDXS[0]\n",
    "\n",
    "x = vg[index]\n",
    "epy = ep[index]\n",
    "scy = sc[index]\n",
    "ep_linear = TrainedLinear(1, 2193, algorithm='linear').fit(x, epy.reshape(-1, 2193))\n",
    "sc_linear = TrainedLinear(1, 2193, algorithm='linear').fit(x, scy.reshape(-1, 2193))\n",
    "model = DebugeModel(ep_linear, sc_linear)\n",
    "print(model.summary())\n",
    "\n",
    "model(x)"
   ]
  }
 ],
 "metadata": {
  "kernelspec": {
   "display_name": "Python 3",
   "language": "python",
   "name": "python3"
  },
  "language_info": {
   "codemirror_mode": {
    "name": "ipython",
    "version": 3
   },
   "file_extension": ".py",
   "mimetype": "text/x-python",
   "name": "python",
   "nbconvert_exporter": "python",
   "pygments_lexer": "ipython3",
   "version": "3.11.3"
  },
  "orig_nbformat": 4
 },
 "nbformat": 4,
 "nbformat_minor": 2
}
