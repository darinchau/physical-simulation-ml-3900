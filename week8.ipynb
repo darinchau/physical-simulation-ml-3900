{
 "cells": [
  {
   "cell_type": "code",
   "execution_count": null,
   "metadata": {},
   "outputs": [],
   "source": [
    "from load import *\n",
    "from torch import Tensor, nn\n",
    "import torch\n",
    "from modules import *\n",
    "\n",
    "ROOT = \"./Datas/Week 8\"\n",
    "\n",
    "\n",
    "Q = 1.60217663e-19\n",
    "\n",
    "def init_weights(m):\n",
    "    try:\n",
    "        torch.nn.init.xavier_uniform(m.weight)\n",
    "        m.bias.data.fill_(0.01)\n",
    "    except AttributeError:\n",
    "        pass\n",
    "\n",
    "def load():\n",
    "    ep = load_elec_potential().reshape(-1, 2193)\n",
    "    sc = (load_space_charge() * (-Q)).reshape(-1, 2193)\n",
    "    epsc = torch.cat([ep, sc], axis = -1)\n",
    "    return epsc"
   ]
  }
 ],
 "metadata": {
  "kernelspec": {
   "display_name": "Python 3",
   "language": "python",
   "name": "python3"
  },
  "language_info": {
   "codemirror_mode": {
    "name": "ipython",
    "version": 3
   },
   "file_extension": ".py",
   "mimetype": "text/x-python",
   "name": "python",
   "nbconvert_exporter": "python",
   "pygments_lexer": "ipython3",
   "version": "3.11.3"
  },
  "orig_nbformat": 4
 },
 "nbformat": 4,
 "nbformat_minor": 2
}
