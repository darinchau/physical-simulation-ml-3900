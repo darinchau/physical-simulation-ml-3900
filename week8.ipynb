{
 "cells": [
  {
   "cell_type": "code",
   "execution_count": 1,
   "metadata": {},
   "outputs": [],
   "source": [
    "from load import *\n",
    "from torch import Tensor, nn\n",
    "import torch\n",
    "from model_base import *\n",
    "from modules import *\n",
    "from anim import *\n",
    "import util\n",
    "import matplotlib.pyplot as plt\n",
    "from scipy.optimize import minimize\n",
    "\n",
    "ROOT = \"./Datas/Week 8\"\n",
    "\n",
    "Q = 1.60217663e-19"
   ]
  },
  {
   "cell_type": "code",
   "execution_count": 2,
   "metadata": {},
   "outputs": [
    {
     "data": {
      "text/plain": [
       "tensor(5.3032e-10, dtype=torch.float64)"
      ]
     },
     "execution_count": 2,
     "metadata": {},
     "output_type": "execute_result"
    }
   ],
   "source": [
    "sc = load_space_charge() * -Q\n",
    "ep = load_elec_potential()\n",
    "vg = load_vgs()\n",
    "poi = NormalizedPoissonMSE('cpu')\n",
    "poi(ep, sc)"
   ]
  },
  {
   "cell_type": "code",
   "execution_count": 3,
   "metadata": {},
   "outputs": [
    {
     "name": "stdout",
     "output_type": "stream",
     "text": [
      "Sequential\n",
      "Model summary:\n",
      "====================================================================================================\n",
      "Sequential (Trainable: 269, Other: 0)\n",
      "- Linear (Trainable: 99, Other: 0)\n",
      "- ReLU (Trainable: 0, Other: 0)\n",
      "- Sequential (Trainable: 170, Other: 0)\n",
      "- - Sigmoid (Trainable: 0, Other: 0)\n",
      "- - Leaky Sigmoid (Trainable: 10, Other: 0)\n",
      "- - Identity (Trainable: 0, Other: 0)\n",
      "- - Stochastic Node (Trainable: 160, Other: 0)\n",
      "====================================================================================================\n",
      "\n",
      "Sequential\n",
      "Model summary:\n",
      "====================================================================================================\n",
      "Sequential (Trainable: 269, Other: 0)\n",
      "- Linear (Trainable: 99, Other: 0)\n",
      "- ReLU (Trainable: 0, Other: 0)\n",
      "- Sequential (Trainable: 170, Other: 0)\n",
      "- - Sigmoid (Trainable: 0, Other: 0)\n",
      "- - Leaky Sigmoid (Trainable: 10, Other: 0)\n",
      "- - Identity (Trainable: 0, Other: 0)\n",
      "- - Stochastic Node (Trainable: 160, Other: 0)\n",
      "====================================================================================================\n",
      "\n"
     ]
    }
   ],
   "source": [
    "l = Sequential(\n",
    "    Linear(10, 9),\n",
    "    ReLU(),\n",
    "    Sequential(\n",
    "        Sigmoid(),\n",
    "        LeakySigmoid(9),\n",
    "        Identity(),\n",
    "        StochasticNode(9, 8, device='cpu'),\n",
    "    ),\n",
    ")\n",
    "print(l.summary())\n",
    "l.save(\"./aaa.hlpt\")\n",
    "b = Sequential.load(\"./aaa.hlpt\")\n",
    "print(b.summary())\n",
    "\n",
    "\n",
    "t = torch.randn((100, 10))\n",
    "# assert torch.all(l(t) == b(t))"
   ]
  },
  {
   "cell_type": "code",
   "execution_count": 4,
   "metadata": {},
   "outputs": [
    {
     "name": "stdout",
     "output_type": "stream",
     "text": [
      "PoissonJIT Regressor\n",
      "Model summary:\n",
      "====================================================================================================\n",
      "PoissonJIT Regressor (Trainable: 0, Other: 8772)\n",
      "- Trained Linear (Trainable: 0, Other: 4386)\n",
      "- Trained Linear (Trainable: 0, Other: 4386)\n",
      "====================================================================================================\n",
      "\n",
      "PoissonJIT Regressor\n",
      "Model summary:\n",
      "====================================================================================================\n",
      "PoissonJIT Regressor (Trainable: 0, Other: 8772)\n",
      "- Trained Linear (Trainable: 0, Other: 4386)\n",
      "- Trained Linear (Trainable: 0, Other: 4386)\n",
      "====================================================================================================\n",
      "\n"
     ]
    }
   ],
   "source": [
    "index = util.TRAINING_IDXS[0]\n",
    "\n",
    "x = vg[index]\n",
    "epy = ep[index]\n",
    "scy = sc[index]\n",
    "ep_linear = TrainedLinear(1, 2193, algorithm='linear').fit(x, epy.reshape(-1, 2193))\n",
    "sc_linear = TrainedLinear(1, 2193, algorithm='linear').fit(x, scy.reshape(-1, 2193))\n",
    "model = PoissonJITRegressor(ep_linear, sc_linear)\n",
    "print(model.summary())\n",
    "model.save(\"./aaa.hlpt\")\n",
    "\n",
    "m = PoissonJITRegressor.load(\"./aaa.hlpt\")\n",
    "print(m.summary())"
   ]
  }
 ],
 "metadata": {
  "kernelspec": {
   "display_name": "Python 3",
   "language": "python",
   "name": "python3"
  },
  "language_info": {
   "codemirror_mode": {
    "name": "ipython",
    "version": 3
   },
   "file_extension": ".py",
   "mimetype": "text/x-python",
   "name": "python",
   "nbconvert_exporter": "python",
   "pygments_lexer": "ipython3",
   "version": "3.11.3"
  },
  "orig_nbformat": 4
 },
 "nbformat": 4,
 "nbformat_minor": 2
}
