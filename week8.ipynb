{
 "cells": [
  {
   "cell_type": "code",
   "execution_count": 1,
   "metadata": {},
   "outputs": [],
   "source": [
    "from load import *\n",
    "from torch import Tensor, nn\n",
    "import torch\n",
    "from model_base import *\n",
    "from modules import *\n",
    "from anim import *\n",
    "import util\n",
    "import matplotlib.pyplot as plt\n",
    "from scipy.optimize import minimize\n",
    "\n",
    "ROOT = \"./Datas/Week 8\"\n",
    "\n",
    "Q = 1.60217663e-19"
   ]
  },
  {
   "cell_type": "code",
   "execution_count": 2,
   "metadata": {},
   "outputs": [
    {
     "data": {
      "text/plain": [
       "tensor(5.3032e-10, dtype=torch.float64)"
      ]
     },
     "execution_count": 2,
     "metadata": {},
     "output_type": "execute_result"
    }
   ],
   "source": [
    "sc = load_space_charge() * -Q\n",
    "ep = load_elec_potential()\n",
    "vg = load_vgs()\n",
    "poi = NormalizedPoissonMSE('cpu')\n",
    "poi(ep, sc)"
   ]
  },
  {
   "cell_type": "code",
   "execution_count": 4,
   "metadata": {},
   "outputs": [
    {
     "name": "stdout",
     "output_type": "stream",
     "text": [
      "Trained First 5\n",
      "Trained First 20\n",
      "Trained First 30\n",
      "Trained First 40\n",
      "Trained First 60\n",
      "Trained First 75\n",
      "Trained First 90\n",
      "Trained 15 to 45\n",
      "Trained 20 to 40\n",
      "Trained 40 to 60\n",
      "Trained 25 to 35\n",
      "Trained 20 to 50\n",
      "Trained 30 to 50\n",
      "Trained 29 and 30 and 31\n"
     ]
    }
   ],
   "source": [
    "predictions = {}\n",
    "for index in util.TRAINING_IDXS:\n",
    "    x = vg[index]\n",
    "    epy = ep[index]\n",
    "    scy = sc[index]\n",
    "    ep_linear = TrainedLinear(1, 2193, algorithm='linear').fit(x, epy.reshape(-1, 2193))\n",
    "    sc_linear = TrainedLinear(1, 2193, algorithm='linear').fit(x, scy.reshape(-1, 2193))\n",
    "    model = PoissonJITRegressor(ep_linear, sc_linear)\n",
    "    ypred = model(vg)\n",
    "    ypred_ep = ypred[:, :2193].reshape(-1, 129, 17)\n",
    "    predictions[index.name] = ypred_ep.detach().numpy()\n",
    "    print(f\"Trained {index.name}\")"
   ]
  },
  {
   "cell_type": "code",
   "execution_count": 8,
   "metadata": {},
   "outputs": [],
   "source": [
    "save_h5(predictions, \"./predictions.h5\")"
   ]
  }
 ],
 "metadata": {
  "kernelspec": {
   "display_name": "Python 3",
   "language": "python",
   "name": "python3"
  },
  "language_info": {
   "codemirror_mode": {
    "name": "ipython",
    "version": 3
   },
   "file_extension": ".py",
   "mimetype": "text/x-python",
   "name": "python",
   "nbconvert_exporter": "python",
   "pygments_lexer": "ipython3",
   "version": "3.11.3"
  },
  "orig_nbformat": 4
 },
 "nbformat": 4,
 "nbformat_minor": 2
}
