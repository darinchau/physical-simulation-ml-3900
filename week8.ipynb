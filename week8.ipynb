{
 "cells": [
  {
   "cell_type": "code",
   "execution_count": 1,
   "metadata": {},
   "outputs": [],
   "source": [
    "from load import *\n",
    "from torch import Tensor, nn\n",
    "import torch\n",
    "from model_base import Model, ModelBase, Linear\n",
    "\n",
    "ROOT = \"./Datas/Week 8\"\n",
    "\n",
    "Q = 1.60217663e-19"
   ]
  },
  {
   "cell_type": "code",
   "execution_count": 4,
   "metadata": {},
   "outputs": [
    {
     "name": "stdout",
     "output_type": "stream",
     "text": [
      "torch.Size([500, 2])\n"
     ]
    }
   ],
   "source": [
    "class Sequential(Model):\n",
    "    def __init__(self, *f):\n",
    "        self.fs = f\n",
    "\n",
    "    def forward(self, x):\n",
    "        for model in self.fs:\n",
    "            x = model(x)\n",
    "        return x\n",
    "    \n",
    "    def _model_children(self):\n",
    "        for i, model in enumerate(self.fs):\n",
    "            assert isinstance(model, Model)\n",
    "            yield str(i), model\n",
    "    \n",
    "    def _deserialize(self, state: dict):\n",
    "        for k, v in state.items():\n",
    "            if k in (\"_init_=args\", \"_init_=kwargs\"):\n",
    "                continue\n",
    "            self.fs[int(k)]._deserialize(v)\n",
    "        return self\n",
    "\n",
    "c = Sequential(\n",
    "    Linear(100, 10),\n",
    "    Linear(10, 5),\n",
    "    Linear(5, 2)\n",
    ")\n",
    "\n",
    "t = torch.randn(500, 100)\n",
    "y = c(t)\n",
    "print(y.shape)"
   ]
  },
  {
   "cell_type": "code",
   "execution_count": 5,
   "metadata": {},
   "outputs": [],
   "source": [
    "c.save(\"./model.hlpt\")"
   ]
  },
  {
   "cell_type": "code",
   "execution_count": 6,
   "metadata": {},
   "outputs": [],
   "source": [
    "d = Sequential.load(\"./model.hlpt\")"
   ]
  },
  {
   "cell_type": "code",
   "execution_count": 7,
   "metadata": {},
   "outputs": [
    {
     "name": "stdout",
     "output_type": "stream",
     "text": [
      "Sequential\n",
      "Model summary:\n",
      "====================================================================================================\n",
      "Sequential (Trainable: 1077, Other: 0)\n",
      "- Linear (Trainable: 1010, Other: 0)\n",
      "- Linear (Trainable: 55, Other: 0)\n",
      "- Linear (Trainable: 12, Other: 0)\n",
      "====================================================================================================\n",
      "\n"
     ]
    }
   ],
   "source": [
    "print(d)"
   ]
  },
  {
   "cell_type": "code",
   "execution_count": 8,
   "metadata": {},
   "outputs": [
    {
     "data": {
      "text/plain": [
       "tensor(True)"
      ]
     },
     "execution_count": 8,
     "metadata": {},
     "output_type": "execute_result"
    }
   ],
   "source": [
    "z = d(t)\n",
    "torch.all(y == z)"
   ]
  }
 ],
 "metadata": {
  "kernelspec": {
   "display_name": "Python 3",
   "language": "python",
   "name": "python3"
  },
  "language_info": {
   "codemirror_mode": {
    "name": "ipython",
    "version": 3
   },
   "file_extension": ".py",
   "mimetype": "text/x-python",
   "name": "python",
   "nbconvert_exporter": "python",
   "pygments_lexer": "ipython3",
   "version": "3.11.3"
  },
  "orig_nbformat": 4
 },
 "nbformat": 4,
 "nbformat_minor": 2
}
