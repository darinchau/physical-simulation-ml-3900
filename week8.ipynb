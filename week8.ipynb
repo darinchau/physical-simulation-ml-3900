{
 "cells": [
  {
   "cell_type": "code",
   "execution_count": 1,
   "metadata": {},
   "outputs": [],
   "source": [
    "from load import *\n",
    "from torch import Tensor, nn\n",
    "import torch\n",
    "from model_base import *\n",
    "from modules import *\n",
    "from anim import *\n",
    "import util\n",
    "import matplotlib.pyplot as plt\n",
    "from scipy.optimize import minimize\n",
    "import warnings\n",
    "\n",
    "ROOT = \"./Datas/Week 8\"\n",
    "\n",
    "Q = 1.60217663e-19"
   ]
  },
  {
   "cell_type": "code",
   "execution_count": 2,
   "metadata": {},
   "outputs": [
    {
     "data": {
      "text/plain": [
       "tensor(5.3032e-10, dtype=torch.float64)"
      ]
     },
     "execution_count": 2,
     "metadata": {},
     "output_type": "execute_result"
    }
   ],
   "source": [
    "sc = load_space_charge() * -Q\n",
    "ep = load_elec_potential()\n",
    "vg = load_vgs()\n",
    "poi = NormalizedPoissonMSE('cpu')\n",
    "poi(ep, sc)"
   ]
  },
  {
   "cell_type": "code",
   "execution_count": 14,
   "metadata": {},
   "outputs": [],
   "source": [
    "# Pass a function object to scipy because we can avoid closures and local functions\n",
    "class ReconstructedPoissonLoss:\n",
    "    def __init__(self, xep, xsc, /, device = None):\n",
    "        self.i = 0\n",
    "        self.xep = xep\n",
    "        self.xsc = xsc\n",
    "        self.poisson_loss = NormalizedPoissonRMSE(device)\n",
    "        self._device = self.poisson_loss._device\n",
    "\n",
    "    def set_i(self, i):\n",
    "        self.i = i\n",
    "        return self\n",
    "\n",
    "    def reconstruct(self, x):\n",
    "        i = self.i\n",
    "\n",
    "        ep_region_2 = x[:429].reshape(84 - 45, 11)\n",
    "        ep_region_5 = x[429:663].reshape(84 - 45, 6)\n",
    "        sc_region_2 = x[663:].reshape(84 - 45, 11)\n",
    "\n",
    "        reconstructed_ep = self.xep[i]\n",
    "        reconstructed_ep[45:84,:11] = ep_region_2\n",
    "        reconstructed_ep[45:84,11:] = ep_region_5\n",
    "        reconstructed_ep = reconstructed_ep.reshape(1, 129, 17)\n",
    "\n",
    "        reconstructed_sc = self.xsc[i]\n",
    "        reconstructed_sc[45:84,:11] = sc_region_2\n",
    "        reconstructed_sc = reconstructed_sc.reshape(1, 129, 17)\n",
    "\n",
    "        return reconstructed_ep, reconstructed_sc\n",
    "    \n",
    "    def __call__(self, x):\n",
    "        x = torch.tensor(x).to(self._device)\n",
    "        rep, rsc = self.reconstruct(x)\n",
    "        mse = self.poisson_loss(rep, rsc)\n",
    "        return float(mse.item())\n",
    "\n",
    "class DebugeModel(Model):\n",
    "    \"\"\"Use a first model to predict stuff, then use a second model to make them self consistent - aka satisfy the Poisson equation\"\"\"\n",
    "    def __init__(self, ep1: TrainedLinear, sc1: TrainedLinear):\n",
    "        # From the linearity plots, we only need to care about region 2 in practice for space charge\n",
    "        # and region 2, 5 for electric potential\n",
    "        self.ep1 = ep1\n",
    "        self.sc1 = sc1\n",
    "        \n",
    "    def forward(self, x) -> Tensor:\n",
    "        num_data = int(x.shape[0])\n",
    "        result = torch.zeros(num_data, 4386)\n",
    "\n",
    "        # Initial prediction\n",
    "        xep = self.ep1(x).reshape(-1, 129, 17).cpu()\n",
    "        xsc = self.sc1(x).reshape(-1, 129, 17).cpu()\n",
    "                \n",
    "        ep_region_2 = xep[:, 45:84,:11].reshape(-1, 429)\n",
    "        ep_region_5 = xep[:, 45:84,11:].reshape(-1, 234)\n",
    "        sc_region_2 = xsc[:, 45:84,:11].reshape(-1, 429)\n",
    "\n",
    "        joined = torch.cat([ep_region_2, ep_region_5, sc_region_2], dim = 1)\n",
    "\n",
    "        pca = PrincipalComponentExtractor(1092)\n",
    "        pca.fit(joined)\n",
    "\n",
    "        # print(f\"eigenvalues: {pca.eigenvalues.cpu().numpy()}\")\n",
    "        # print(f\"sum of eigenvalues: {torch.sum(pca.eigenvalues).item()}\")\n",
    "        # print(f\"Shape of eigenvector array: {pca.eigenvalues.shape}\")\n",
    "\n",
    "        x_ = pca.project(joined)\n",
    "        return x_"
   ]
  },
  {
   "cell_type": "code",
   "execution_count": 29,
   "metadata": {},
   "outputs": [
    {
     "name": "stdout",
     "output_type": "stream",
     "text": [
      "eigenvalues: [9.62569962e+01 4.84101292e-06 3.93584696e-06 ... 4.75335196e-16\n",
      " 4.75335196e-16 2.38543457e-16]\n",
      "sum of eigenvalues: 96.2571572140445\n",
      "Shape of eigenvector array: torch.Size([1092])\n"
     ]
    },
    {
     "data": {
      "image/png": "[encoded data removed]",
      "text/plain": [
       "<Figure size 640x480 with 1 Axes>"
      ]
     },
     "metadata": {},
     "output_type": "display_data"
    }
   ],
   "source": [
    "index = util.TRAINING_IDXS[\"First 60\"]\n",
    "\n",
    "x = vg[index]\n",
    "epy = ep[index]\n",
    "scy = sc[index]\n",
    "ep_linear = TrainedLinear(1, 2193, algorithm='linear').fit(x, epy.reshape(-1, 2193))\n",
    "sc_linear = TrainedLinear(1, 2193, algorithm='linear').fit(x, scy.reshape(-1, 2193))\n",
    "model = DebugeModel(ep_linear, sc_linear)\n",
    "# print(model.summary())\n",
    "\n",
    "a = model(x).cpu().numpy()[:, :]\n",
    "fig, ax = plt.subplots()\n",
    "ax.plot(a)\n",
    "fig.suptitle(\"Principal component of reconstructible region\")\n",
    "pass"
   ]
  },
  {
   "cell_type": "code",
   "execution_count": 31,
   "metadata": {},
   "outputs": [],
   "source": [
    "fig.savefig(\"Components of something.svg\")"
   ]
  }
 ],
 "metadata": {
  "kernelspec": {
   "display_name": "Python 3",
   "language": "python",
   "name": "python3"
  },
  "language_info": {
   "codemirror_mode": {
    "name": "ipython",
    "version": 3
   },
   "file_extension": ".py",
   "mimetype": "text/x-python",
   "name": "python",
   "nbconvert_exporter": "python",
   "pygments_lexer": "ipython3",
   "version": "3.11.3"
  },
  "orig_nbformat": 4
 },
 "nbformat": 4,
 "nbformat_minor": 2
}
